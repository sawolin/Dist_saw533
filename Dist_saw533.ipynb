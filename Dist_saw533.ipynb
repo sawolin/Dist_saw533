{
 "cells": [
  {
   "cell_type": "code",
   "execution_count": 1,
   "metadata": {
    "collapsed": false
   },
   "outputs": [
    {
     "ename": "ImportError",
     "evalue": "No module named base_distribution",
     "output_type": "error",
     "traceback": [
      "\u001b[1;31m---------------------------------------------------------------------------\u001b[0m",
      "\u001b[1;31mImportError\u001b[0m                               Traceback (most recent call last)",
      "\u001b[1;32m<ipython-input-1-e2dffcf0b074>\u001b[0m in \u001b[0;36m<module>\u001b[1;34m()\u001b[0m\n\u001b[0;32m      1\u001b[0m \u001b[1;32mimport\u001b[0m \u001b[0mnumpy\u001b[0m \u001b[1;32mas\u001b[0m \u001b[0mnp\u001b[0m\u001b[1;33m\u001b[0m\u001b[0m\n\u001b[1;32m----> 2\u001b[1;33m \u001b[1;32mfrom\u001b[0m \u001b[0mbase_distribution\u001b[0m \u001b[1;32mimport\u001b[0m \u001b[0mBaseDistribution\u001b[0m\u001b[1;33m\u001b[0m\u001b[0m\n\u001b[0m\u001b[0;32m      3\u001b[0m \u001b[1;33m\u001b[0m\u001b[0m\n\u001b[0;32m      4\u001b[0m \u001b[1;32mclass\u001b[0m \u001b[0mDist_saw533\u001b[0m\u001b[1;33m(\u001b[0m\u001b[0mBaseDistribution\u001b[0m\u001b[1;33m)\u001b[0m\u001b[1;33m:\u001b[0m\u001b[1;33m\u001b[0m\u001b[0m\n\u001b[0;32m      5\u001b[0m         \u001b[1;32mdef\u001b[0m \u001b[0m__init__\u001b[0m\u001b[1;33m(\u001b[0m\u001b[0mself\u001b[0m\u001b[1;33m)\u001b[0m\u001b[1;33m:\u001b[0m\u001b[1;33m\u001b[0m\u001b[0m\n",
      "\u001b[1;31mImportError\u001b[0m: No module named base_distribution"
     ]
    }
   ],
   "source": [
    "import numpy as np\n",
    "from base_distribution import BaseDistribution\n",
    "\n",
    "class Dist_saw533(BaseDistribution):\n",
    "\tdef __init__(self):\n",
    "\t\tself.f_max = 1\n",
    "\t\tself.x_min = -1\n",
    "\t\tself.x_max = 1\n",
    "\n",
    "\n",
    "\tdef pdf(self, x):\n",
    "\t\t\"\"\"This is your PDF\"\"\"\n",
    "\t\treturn (0.5*x)+0.5\n",
    "\n",
    "\tdef mean(self):\n",
    "\t\t\"\"\"This is the mean of the PDF\"\"\"\n",
    "\t\treturn (1/3)\n",
    "\n",
    "\tdef std(self):\n",
    "\t\t\"\"\"This is the standard deviation of the pdf\"\"\"\n",
    "\t\treturn (2/9)\n",
    "    "
   ]
  },
  {
   "cell_type": "code",
   "execution_count": null,
   "metadata": {
    "collapsed": true
   },
   "outputs": [],
   "source": []
  }
 ],
 "metadata": {
  "kernelspec": {
   "display_name": "Python 2",
   "language": "python",
   "name": "python2"
  },
  "language_info": {
   "codemirror_mode": {
    "name": "ipython",
    "version": 2
   },
   "file_extension": ".py",
   "mimetype": "text/x-python",
   "name": "python",
   "nbconvert_exporter": "python",
   "pygments_lexer": "ipython2",
   "version": "2.7.11"
  }
 },
 "nbformat": 4,
 "nbformat_minor": 0
}
